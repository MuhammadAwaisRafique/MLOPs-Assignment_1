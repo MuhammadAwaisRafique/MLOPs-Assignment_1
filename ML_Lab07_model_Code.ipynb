{
 "cells": [
  {
   "cell_type": "markdown",
   "id": "39cb63cf-47ce-4090-8002-1d98112cbb4c",
   "metadata": {},
   "source": [
    "# Trained LogisticRegression model "
   ]
  },
  {
   "cell_type": "code",
   "execution_count": 11,
   "id": "0daccc47-c3a2-4b29-80bd-a6fa1fcc88ad",
   "metadata": {},
   "outputs": [
    {
     "name": "stdout",
     "output_type": "stream",
     "text": [
      "✅ Accuracy: 0.9017\n",
      "\n",
      "📊 Classification Report\n",
      "              precision    recall  f1-score   support\n",
      "\n",
      "           0       0.91      0.89      0.90      4961\n",
      "           1       0.89      0.91      0.90      5039\n",
      "\n",
      "    accuracy                           0.90     10000\n",
      "   macro avg       0.90      0.90      0.90     10000\n",
      "weighted avg       0.90      0.90      0.90     10000\n",
      "\n",
      "\n",
      "🔹 Confusion Matrix\n",
      "[[4410  551]\n",
      " [ 432 4607]]\n",
      "\n",
      "✅ Model & Vectorizer saved in: C:\\Users\\Sajjad\\Desktop\\Universty__Work\\models\n"
     ]
    }
   ],
   "source": [
    "import pandas as pd\n",
    "import re\n",
    "import string\n",
    "import joblib\n",
    "\n",
    "from sklearn.model_selection import train_test_split\n",
    "from sklearn.feature_extraction.text import TfidfVectorizer\n",
    "from sklearn.linear_model import LogisticRegression\n",
    "from sklearn.metrics import classification_report, accuracy_score, confusion_matrix\n",
    "\n",
    "# === Load dataset ===\n",
    "df = pd.read_csv(r\"C:\\Users\\Sajjad\\Desktop\\Universty__Work\\IMDB Dataset.csv\")\n",
    "\n",
    "# === Text preprocessing function ===\n",
    "def clean_text(text):\n",
    "    text = text.lower()  # lowercase\n",
    "    text = re.sub(r\"<.*?>\", \"\", text)  # remove HTML tags\n",
    "    text = re.sub(r\"\\d+\", \"\", text)  # remove numbers\n",
    "    text = text.translate(str.maketrans(\"\", \"\", string.punctuation))  # remove punctuation\n",
    "    return text\n",
    "\n",
    "df[\"review\"] = df[\"review\"].apply(clean_text)\n",
    "\n",
    "# === Split dataset ===\n",
    "X = df[\"review\"]\n",
    "y = df[\"sentiment\"].map({\"positive\": 1, \"negative\": 0})  # encode target\n",
    "\n",
    "X_train, X_test, y_train, y_test = train_test_split(\n",
    "    X, y, test_size=0.2, random_state=42\n",
    ")\n",
    "\n",
    "# === TF-IDF Vectorization ===\n",
    "tfidf = TfidfVectorizer(max_features=10000, ngram_range=(1, 2))\n",
    "X_train_tfidf = tfidf.fit_transform(X_train)\n",
    "X_test_tfidf = tfidf.transform(X_test)\n",
    "\n",
    "# === Train Logistic Regression Model ===\n",
    "model = LogisticRegression(max_iter=200, solver=\"liblinear\")\n",
    "model.fit(X_train_tfidf, y_train)\n",
    "\n",
    "# === Predictions ===\n",
    "y_pred = model.predict(X_test_tfidf)\n",
    "\n",
    "# === Evaluation ===\n",
    "acc = accuracy_score(y_test, y_pred)\n",
    "print(f\"✅ Accuracy: {acc:.4f}\\n\")\n",
    "print(\"📊 Classification Report\")\n",
    "print(classification_report(y_test, y_pred))\n",
    "\n",
    "print(\"\\n🔹 Confusion Matrix\")\n",
    "print(confusion_matrix(y_test, y_pred))\n",
    "\n",
    "# === Save model & vectorizer ===\n",
    "joblib.dump(model, r\"C:\\Users\\Sajjad\\Desktop\\Universty__Work\\models\\imdb_logreg_model.pkl\")\n",
    "joblib.dump(tfidf, r\"C:\\Users\\Sajjad\\Desktop\\Universty__Work\\models\\tfidf_vectorizer.pkl\")\n",
    "\n",
    "print(\"\\n✅ Model & Vectorizer saved in: C:\\\\Users\\\\Sajjad\\\\Desktop\\\\Universty__Work\\\\models\")\n"
   ]
  },
  {
   "cell_type": "markdown",
   "id": "b4357350-1e02-4d54-82e6-93c8ea283e52",
   "metadata": {},
   "source": [
    "# Load Trained model files l & test "
   ]
  },
  {
   "cell_type": "code",
   "execution_count": 12,
   "id": "7335ef0a-f571-4c4a-b4df-82ca446b8088",
   "metadata": {},
   "outputs": [
    {
     "name": "stdout",
     "output_type": "stream",
     "text": [
      "✅ Accuracy on 30% test set: 0.9111\n",
      "\n",
      "📊 Classification Report\n",
      "              precision    recall  f1-score   support\n",
      "\n",
      "           0       0.92      0.90      0.91      7411\n",
      "           1       0.91      0.92      0.91      7589\n",
      "\n",
      "    accuracy                           0.91     15000\n",
      "   macro avg       0.91      0.91      0.91     15000\n",
      "weighted avg       0.91      0.91      0.91     15000\n",
      "\n",
      "\n",
      "🔹 Confusion Matrix\n",
      "[[6682  729]\n",
      " [ 604 6985]]\n"
     ]
    }
   ],
   "source": [
    "import pandas as pd\n",
    "import re\n",
    "import string\n",
    "import joblib\n",
    "from sklearn.metrics import classification_report, accuracy_score, confusion_matrix\n",
    "from sklearn.model_selection import train_test_split\n",
    "\n",
    "# === Load dataset again ===\n",
    "df = pd.read_csv(r\"C:\\Users\\Sajjad\\Desktop\\Universty__Work\\IMDB Dataset.csv\")\n",
    "\n",
    "# === Text preprocessing ===\n",
    "def clean_text(text):\n",
    "    text = text.lower()\n",
    "    text = re.sub(r\"<.*?>\", \"\", text)  \n",
    "    text = re.sub(r\"\\d+\", \"\", text)  \n",
    "    text = text.translate(str.maketrans(\"\", \"\", string.punctuation))  \n",
    "    return text\n",
    "\n",
    "df[\"review\"] = df[\"review\"].apply(clean_text)\n",
    "\n",
    "X = df[\"review\"]\n",
    "y = df[\"sentiment\"].map({\"positive\": 1, \"negative\": 0})\n",
    "\n",
    "# === New split: 70% train / 30% test ===\n",
    "X_train, X_test, y_train, y_test = train_test_split(\n",
    "    X, y, test_size=0.3, random_state=42, shuffle=True\n",
    ")\n",
    "\n",
    "# === Load saved model & vectorizer ===\n",
    "model = joblib.load(r\"C:\\Users\\Sajjad\\Desktop\\Universty__Work\\models\\imdb_logreg_model.pkl\")\n",
    "tfidf = joblib.load(r\"C:\\Users\\Sajjad\\Desktop\\Universty__Work\\models\\tfidf_vectorizer.pkl\")\n",
    "\n",
    "# === Transform test data ===\n",
    "X_test_tfidf = tfidf.transform(X_test)\n",
    "\n",
    "# === Predict ===\n",
    "y_pred = model.predict(X_test_tfidf)\n",
    "\n",
    "# === Evaluation ===\n",
    "acc = accuracy_score(y_test, y_pred)\n",
    "print(f\"✅ Accuracy on 30% test set: {acc:.4f}\\n\")\n",
    "print(\"📊 Classification Report\")\n",
    "print(classification_report(y_test, y_pred))\n",
    "\n",
    "print(\"\\n🔹 Confusion Matrix\")\n",
    "print(confusion_matrix(y_test, y_pred))\n"
   ]
  },
  {
   "cell_type": "code",
   "execution_count": null,
   "id": "b1f67bae-f203-41da-9cdd-10dc38090566",
   "metadata": {},
   "outputs": [],
   "source": []
  }
 ],
 "metadata": {
  "kernelspec": {
   "display_name": "Python 3 (ipykernel)",
   "language": "python",
   "name": "python3"
  },
  "language_info": {
   "codemirror_mode": {
    "name": "ipython",
    "version": 3
   },
   "file_extension": ".py",
   "mimetype": "text/x-python",
   "name": "python",
   "nbconvert_exporter": "python",
   "pygments_lexer": "ipython3",
   "version": "3.12.7"
  }
 },
 "nbformat": 4,
 "nbformat_minor": 5
}
